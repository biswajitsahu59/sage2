{
 "cells": [
  {
   "cell_type": "code",
   "execution_count": 1,
   "id": "d0a1132e",
   "metadata": {},
   "outputs": [
    {
     "ename": "ModuleNotFoundError",
     "evalue": "No module named 'sagemaker'",
     "output_type": "error",
     "traceback": [
      "\u001b[0;31m---------------------------------------------------------------------------\u001b[0m",
      "\u001b[0;31mModuleNotFoundError\u001b[0m                       Traceback (most recent call last)",
      "Cell \u001b[0;32mIn[1], line 2\u001b[0m\n\u001b[1;32m      1\u001b[0m \u001b[38;5;66;03m#!pip install sagemaker\u001b[39;00m\n\u001b[0;32m----> 2\u001b[0m \u001b[38;5;28;01mimport\u001b[39;00m \u001b[38;5;21;01msagemaker\u001b[39;00m\n\u001b[1;32m      3\u001b[0m \u001b[38;5;28;01mimport\u001b[39;00m \u001b[38;5;21;01mboto3\u001b[39;00m\n\u001b[1;32m      4\u001b[0m \u001b[38;5;28;01mfrom\u001b[39;00m \u001b[38;5;21;01msagemaker\u001b[39;00m\u001b[38;5;21;01m.\u001b[39;00m\u001b[38;5;21;01mamazon\u001b[39;00m\u001b[38;5;21;01m.\u001b[39;00m\u001b[38;5;21;01mamazon_estimator\u001b[39;00m \u001b[38;5;28;01mimport\u001b[39;00m get_image_uri\n",
      "\u001b[0;31mModuleNotFoundError\u001b[0m: No module named 'sagemaker'"
     ]
    }
   ],
   "source": [
    "#!pip install sagemaker\n",
    "import sagemaker\n",
    "import boto3\n",
    "from sagemaker.amazon.amazon_estimator import get_image_uri\n",
    "from sagemaker.session import s3_input,Session"
   ]
  },
  {
   "cell_type": "code",
   "execution_count": 22,
   "id": "42b2e2e0",
   "metadata": {},
   "outputs": [
    {
     "data": {
      "text/plain": [
       "{'ResponseMetadata': {'RequestId': 'GJMWYGBPAZTBH4HW',\n",
       "  'HostId': 'q4uCC2uSgEhKyXbOyR/Q4/VU15zK1fcPv2sepp7rxdIclb+3tsKBOGgr0fYuEBcEvsNPw79ZvJVIStuNGwSkN6sbOF2XFZNhOobsEvCm+xY=',\n",
       "  'HTTPStatusCode': 200,\n",
       "  'HTTPHeaders': {'x-amz-id-2': 'q4uCC2uSgEhKyXbOyR/Q4/VU15zK1fcPv2sepp7rxdIclb+3tsKBOGgr0fYuEBcEvsNPw79ZvJVIStuNGwSkN6sbOF2XFZNhOobsEvCm+xY=',\n",
       "   'x-amz-request-id': 'GJMWYGBPAZTBH4HW',\n",
       "   'date': 'Thu, 09 May 2024 11:24:07 GMT',\n",
       "   'location': '/titleapp1',\n",
       "   'server': 'AmazonS3',\n",
       "   'content-length': '0'},\n",
       "  'RetryAttempts': 0},\n",
       " 'Location': '/titleapp1'}"
      ]
     },
     "execution_count": 22,
     "metadata": {},
     "output_type": "execute_result"
    }
   ],
   "source": [
    "buck='titleapp1'\n",
    "my_reg=boto3.session.Session()\n",
    "my_reg\n",
    "s3.create_bucket(Bucket=buck)"
   ]
  },
  {
   "cell_type": "code",
   "execution_count": 16,
   "id": "86d32a0c",
   "metadata": {},
   "outputs": [
    {
     "name": "stdout",
     "output_type": "stream",
     "text": [
      "success\n"
     ]
    }
   ],
   "source": [
    "s3=boto3.client('s3')\n",
    "try:\n",
    "    if my_reg=='us-east-1':\n",
    "        s3.create_bucket(Bucket=buck, LocationConstraint='us-east-1')\n",
    "    print('success')\n",
    "except Exception as e:\n",
    "    print(e)"
   ]
  },
  {
   "cell_type": "code",
   "execution_count": 32,
   "id": "a40c11c1",
   "metadata": {},
   "outputs": [],
   "source": [
    "pre='xgboost'\n",
    "out=f's3://{buck}/{pre}/output'"
   ]
  },
  {
   "cell_type": "code",
   "execution_count": 23,
   "id": "5216eee4",
   "metadata": {},
   "outputs": [
    {
     "name": "stdout",
     "output_type": "stream",
     "text": [
      "Success: downloaded bank_clean.csv.\n",
      "Success: Data loaded into dataframe.\n"
     ]
    }
   ],
   "source": [
    "import pandas as pd\n",
    "import urllib\n",
    "try:\n",
    "    urllib.request.urlretrieve (\"https://d1.awsstatic.com/tmt/build-train-deploy-machine-learning-model-sagemaker/bank_clean.27f01fbbdf43271788427f3682996ae29ceca05d.csv\", \"bank_clean.csv\")\n",
    "    print('Success: downloaded bank_clean.csv.')\n",
    "except Exception as e:\n",
    "    print('Data load error: ',e)\n",
    "\n",
    "try:\n",
    "    model_data = pd.read_csv('./bank_clean.csv',index_col=0)\n",
    "    print('Success: Data loaded into dataframe.')\n",
    "except Exception as e:\n",
    "    print('Data load error: ',e)"
   ]
  },
  {
   "cell_type": "code",
   "execution_count": 28,
   "id": "17fba945",
   "metadata": {},
   "outputs": [
    {
     "data": {
      "text/plain": [
       "((28831, 61), (12357, 61))"
      ]
     },
     "execution_count": 28,
     "metadata": {},
     "output_type": "execute_result"
    }
   ],
   "source": [
    "#! pip install -U scikit-learn scipy matplotlib\n",
    "from sklearn.model_selection import train_test_split\n",
    "\n",
    "train_data,test_data=train_test_split(model_data,test_size=0.3,random_state=42)\n",
    "train_data.shape,test_data.shape"
   ]
  },
  {
   "cell_type": "code",
   "execution_count": 35,
   "id": "4b6a9ab7",
   "metadata": {},
   "outputs": [],
   "source": [
    "import os\n",
    "pd.concat([train_data['y_yes'], train_data.drop(['y_no', 'y_yes'], \n",
    "                                                axis=1)], \n",
    "                                                axis=1).to_csv('train.csv', index=False, header=False)\n",
    "boto3.Session().resource('s3').Bucket(buck).Object(os.path.join(pre, 'train/train.csv')).upload_file('train.csv')\n",
    "s3_input_train = sagemaker.TrainingInput(s3_data='s3://{}/{}/train'.format(buck, pre), content_type='csv')\n",
    "\n",
    "pd.concat([test_data['y_yes'], test_data.drop(['y_no', 'y_yes'], axis=1)], axis=1).to_csv('test.csv', index=False, header=False)\n",
    "boto3.Session().resource('s3').Bucket(buck).Object(os.path.join(pre, 'test/test.csv')).upload_file('test.csv')\n",
    "s3_input_test = sagemaker.TrainingInput(s3_data='s3://{}/{}/test'.format(buck, pre), content_type='csv')"
   ]
  },
  {
   "cell_type": "code",
   "execution_count": 37,
   "id": "da80d0b2",
   "metadata": {},
   "outputs": [
    {
     "name": "stderr",
     "output_type": "stream",
     "text": [
      "The method get_image_uri has been renamed in sagemaker>=2.\n",
      "See: https://sagemaker.readthedocs.io/en/stable/v2.html for details.\n"
     ]
    }
   ],
   "source": [
    "container =get_image_uri(boto3.Session().region_name,'xgboost',repo_version='1.0-1')\n",
    "hyperparameters = {\n",
    "        \"max_depth\":\"5\",\n",
    "        \"eta\":\"0.2\",\n",
    "        \"gamma\":\"4\",\n",
    "        \"min_child_weight\":\"6\",\n",
    "        \"subsample\":\"0.7\",\n",
    "        \"objective\":\"binary:logistic\",\n",
    "        \"num_round\":50\n",
    "        }"
   ]
  },
  {
   "cell_type": "code",
   "execution_count": 39,
   "id": "12eaa0d3",
   "metadata": {},
   "outputs": [
    {
     "name": "stderr",
     "output_type": "stream",
     "text": [
      "train_instance_count has been renamed in sagemaker>=2.\n",
      "See: https://sagemaker.readthedocs.io/en/stable/v2.html for details.\n",
      "train_instance_type has been renamed in sagemaker>=2.\n",
      "See: https://sagemaker.readthedocs.io/en/stable/v2.html for details.\n",
      "train_max_run has been renamed in sagemaker>=2.\n",
      "See: https://sagemaker.readthedocs.io/en/stable/v2.html for details.\n",
      "train_use_spot_instances has been renamed in sagemaker>=2.\n",
      "See: https://sagemaker.readthedocs.io/en/stable/v2.html for details.\n",
      "train_max_wait has been renamed in sagemaker>=2.\n",
      "See: https://sagemaker.readthedocs.io/en/stable/v2.html for details.\n",
      "train_volume_size has been renamed in sagemaker>=2.\n",
      "See: https://sagemaker.readthedocs.io/en/stable/v2.html for details.\n"
     ]
    }
   ],
   "source": [
    " estimator = sagemaker.estimator.Estimator(image_uri=container, \n",
    "                                          hyperparameters=hyperparameters,\n",
    "                                          role=sagemaker.get_execution_role(),\n",
    "                                          train_instance_count=1, \n",
    "                                          train_instance_type='ml.m5.2xlarge', \n",
    "                                          train_volume_size=5, # 5 GB \n",
    "                                          output_path=out,\n",
    "                                          train_use_spot_instances=True,\n",
    "                                          train_max_run=300,\n",
    "                                          train_max_wait=600)"
   ]
  },
  {
   "cell_type": "code",
   "execution_count": 42,
   "id": "bfcd5709",
   "metadata": {},
   "outputs": [
    {
     "name": "stderr",
     "output_type": "stream",
     "text": [
      "INFO:sagemaker:Creating training-job with name: sagemaker-xgboost-2024-05-09-13-51-21-315\n"
     ]
    },
    {
     "name": "stdout",
     "output_type": "stream",
     "text": [
      "2024-05-09 13:51:21 Starting - Starting the training job...\n",
      "2024-05-09 13:51:36 Starting - Preparing the instances for training...\n",
      "2024-05-09 13:52:03 Downloading - Downloading input data...\n",
      "2024-05-09 13:52:44 Training - Training image download completed. Training in progress....\n",
      "2024-05-09 13:53:20 Uploading - Uploading generated training model\n",
      "2024-05-09 13:53:20 Completed - Training job completed\n",
      "\u001b[34m[2024-05-09 13:53:05.255 ip-10-0-81-118.ec2.internal:7 INFO utils.py:27] RULE_JOB_STOP_SIGNAL_FILENAME: None\u001b[0m\n",
      "\u001b[34mINFO:sagemaker-containers:Imported framework sagemaker_xgboost_container.training\u001b[0m\n",
      "\u001b[34mINFO:sagemaker-containers:Failed to parse hyperparameter objective value binary:logistic to Json.\u001b[0m\n",
      "\u001b[34mReturning the value itself\u001b[0m\n",
      "\u001b[34mINFO:sagemaker-containers:No GPUs detected (normal if no gpus installed)\u001b[0m\n",
      "\u001b[34mINFO:sagemaker_xgboost_container.training:Running XGBoost Sagemaker in algorithm mode\u001b[0m\n",
      "\u001b[34mINFO:root:Determined delimiter of CSV input is ','\u001b[0m\n",
      "\u001b[34mINFO:root:Determined delimiter of CSV input is ','\u001b[0m\n",
      "\u001b[34mINFO:root:Determined delimiter of CSV input is ','\u001b[0m\n",
      "\u001b[34mINFO:root:Determined delimiter of CSV input is ','\u001b[0m\n",
      "\u001b[34mINFO:root:Single node training.\u001b[0m\n",
      "\u001b[34m[13:53:05] 28831x59 matrix with 1701029 entries loaded from /opt/ml/input/data/train?format=csv&label_column=0&delimiter=,\u001b[0m\n",
      "\u001b[34m[13:53:05] 12357x59 matrix with 729063 entries loaded from /opt/ml/input/data/validation?format=csv&label_column=0&delimiter=,\u001b[0m\n",
      "\u001b[34m[2024-05-09 13:53:05.428 ip-10-0-81-118.ec2.internal:7 INFO json_config.py:91] Creating hook from json_config at /opt/ml/input/config/debughookconfig.json.\u001b[0m\n",
      "\u001b[34m[2024-05-09 13:53:05.429 ip-10-0-81-118.ec2.internal:7 INFO hook.py:201] tensorboard_dir has not been set for the hook. SMDebug will not be exporting tensorboard summaries.\u001b[0m\n",
      "\u001b[34m[2024-05-09 13:53:05.429 ip-10-0-81-118.ec2.internal:7 INFO profiler_config_parser.py:102] User has disabled profiler.\u001b[0m\n",
      "\u001b[34m[2024-05-09 13:53:05.429 ip-10-0-81-118.ec2.internal:7 INFO hook.py:255] Saving to /opt/ml/output/tensors\u001b[0m\n",
      "\u001b[34m[2024-05-09 13:53:05.430 ip-10-0-81-118.ec2.internal:7 INFO state_store.py:77] The checkpoint config file /opt/ml/input/config/checkpointconfig.json does not exist.\u001b[0m\n",
      "\u001b[34mINFO:root:Debug hook created from config\u001b[0m\n",
      "\u001b[34mINFO:root:Train matrix has 28831 rows\u001b[0m\n",
      "\u001b[34mINFO:root:Validation matrix has 12357 rows\u001b[0m\n",
      "\u001b[34m[13:53:05] WARNING: /workspace/src/learner.cc:328: \u001b[0m\n",
      "\u001b[34mParameters: { num_round } might not be used.\n",
      "  This may not be accurate due to some parameters are only used in language bindings but\n",
      "  passed down to XGBoost core.  Or some parameters are not used but slip through this\n",
      "  verification. Please open an issue if you find above cases.\u001b[0m\n",
      "\u001b[34m[0]#011train-error:0.10118#011validation-error:0.10407\u001b[0m\n",
      "\u001b[34m[2024-05-09 13:53:05.491 ip-10-0-81-118.ec2.internal:7 INFO hook.py:423] Monitoring the collections: metrics\u001b[0m\n",
      "\u001b[34m[2024-05-09 13:53:05.494 ip-10-0-81-118.ec2.internal:7 INFO hook.py:486] Hook is writing from the hook with pid: 7\u001b[0m\n",
      "\u001b[34m[1]#011train-error:0.10083#011validation-error:0.10269\u001b[0m\n",
      "\u001b[34m[2]#011train-error:0.10121#011validation-error:0.10253\u001b[0m\n",
      "\u001b[34m[3]#011train-error:0.10132#011validation-error:0.10213\u001b[0m\n",
      "\u001b[34m[4]#011train-error:0.10118#011validation-error:0.10205\u001b[0m\n",
      "\u001b[34m[5]#011train-error:0.10076#011validation-error:0.10172\u001b[0m\n",
      "\u001b[34m[6]#011train-error:0.10093#011validation-error:0.10205\u001b[0m\n",
      "\u001b[34m[7]#011train-error:0.10086#011validation-error:0.10205\u001b[0m\n",
      "\u001b[34m[8]#011train-error:0.10052#011validation-error:0.10116\u001b[0m\n",
      "\u001b[34m[9]#011train-error:0.10041#011validation-error:0.10132\u001b[0m\n",
      "\u001b[34m[10]#011train-error:0.10038#011validation-error:0.10148\u001b[0m\n",
      "\u001b[34m[11]#011train-error:0.10014#011validation-error:0.10148\u001b[0m\n",
      "\u001b[34m[12]#011train-error:0.10010#011validation-error:0.10124\u001b[0m\n",
      "\u001b[34m[13]#011train-error:0.10017#011validation-error:0.10124\u001b[0m\n",
      "\u001b[34m[14]#011train-error:0.09979#011validation-error:0.10100\u001b[0m\n",
      "\u001b[34m[15]#011train-error:0.09958#011validation-error:0.10075\u001b[0m\n",
      "\u001b[34m[16]#011train-error:0.09955#011validation-error:0.10067\u001b[0m\n",
      "\u001b[34m[17]#011train-error:0.09955#011validation-error:0.10100\u001b[0m\n",
      "\u001b[34m[18]#011train-error:0.09944#011validation-error:0.10100\u001b[0m\n",
      "\u001b[34m[19]#011train-error:0.09889#011validation-error:0.10100\u001b[0m\n",
      "\u001b[34m[20]#011train-error:0.09861#011validation-error:0.10108\u001b[0m\n",
      "\u001b[34m[21]#011train-error:0.09871#011validation-error:0.10091\u001b[0m\n",
      "\u001b[34m[22]#011train-error:0.09885#011validation-error:0.10108\u001b[0m\n",
      "\u001b[34m[23]#011train-error:0.09868#011validation-error:0.10116\u001b[0m\n",
      "\u001b[34m[24]#011train-error:0.09857#011validation-error:0.10140\u001b[0m\n",
      "\u001b[34m[25]#011train-error:0.09889#011validation-error:0.10124\u001b[0m\n",
      "\u001b[34m[26]#011train-error:0.09906#011validation-error:0.10140\u001b[0m\n",
      "\u001b[34m[27]#011train-error:0.09878#011validation-error:0.10116\u001b[0m\n",
      "\u001b[34m[28]#011train-error:0.09868#011validation-error:0.10108\u001b[0m\n",
      "\u001b[34m[29]#011train-error:0.09878#011validation-error:0.10124\u001b[0m\n",
      "\u001b[34m[30]#011train-error:0.09878#011validation-error:0.10100\u001b[0m\n",
      "\u001b[34m[31]#011train-error:0.09868#011validation-error:0.10132\u001b[0m\n",
      "\u001b[34m[32]#011train-error:0.09864#011validation-error:0.10116\u001b[0m\n",
      "\u001b[34m[33]#011train-error:0.09844#011validation-error:0.10051\u001b[0m\n",
      "\u001b[34m[34]#011train-error:0.09847#011validation-error:0.10100\u001b[0m\n",
      "\u001b[34m[35]#011train-error:0.09833#011validation-error:0.10067\u001b[0m\n",
      "\u001b[34m[36]#011train-error:0.09809#011validation-error:0.10124\u001b[0m\n",
      "\u001b[34m[37]#011train-error:0.09799#011validation-error:0.10148\u001b[0m\n",
      "\u001b[34m[38]#011train-error:0.09757#011validation-error:0.10132\u001b[0m\n",
      "\u001b[34m[39]#011train-error:0.09739#011validation-error:0.10083\u001b[0m\n",
      "\u001b[34m[40]#011train-error:0.09750#011validation-error:0.10091\u001b[0m\n",
      "\u001b[34m[41]#011train-error:0.09750#011validation-error:0.10100\u001b[0m\n",
      "\u001b[34m[42]#011train-error:0.09764#011validation-error:0.10108\u001b[0m\n",
      "\u001b[34m[43]#011train-error:0.09767#011validation-error:0.10108\u001b[0m\n",
      "\u001b[34m[44]#011train-error:0.09757#011validation-error:0.10108\u001b[0m\n",
      "\u001b[34m[45]#011train-error:0.09746#011validation-error:0.10100\u001b[0m\n",
      "\u001b[34m[46]#011train-error:0.09733#011validation-error:0.10124\u001b[0m\n",
      "\u001b[34m[47]#011train-error:0.09733#011validation-error:0.10108\u001b[0m\n",
      "\u001b[34m[48]#011train-error:0.09736#011validation-error:0.10100\u001b[0m\n",
      "\u001b[34m[49]#011train-error:0.09719#011validation-error:0.10108\u001b[0m\n",
      "Training seconds: 77\n",
      "Billable seconds: 36\n",
      "Managed Spot Training savings: 53.2%\n"
     ]
    }
   ],
   "source": [
    "estimator.fit({'train':s3_input_train,'validation':s3_input_test})"
   ]
  }
 ],
 "metadata": {
  "kernelspec": {
   "display_name": "conda_bedrock",
   "language": "python",
   "name": "conda_bedrock"
  },
  "language_info": {
   "codemirror_mode": {
    "name": "ipython",
    "version": 3
   },
   "file_extension": ".py",
   "mimetype": "text/x-python",
   "name": "python",
   "nbconvert_exporter": "python",
   "pygments_lexer": "ipython3",
   "version": "3.11.9"
  }
 },
 "nbformat": 4,
 "nbformat_minor": 5
}

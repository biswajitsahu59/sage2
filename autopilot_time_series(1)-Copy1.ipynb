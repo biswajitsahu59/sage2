{
 "cells": [
  {
   "cell_type": "markdown",
   "id": "397627ba",
   "metadata": {
    "tags": []
   },
   "source": [
    "# Time-Series Forecasting with Amazon SageMaker Autopilot"
   ]
  },
  {
   "cell_type": "markdown",
   "id": "be89ec1d",
   "metadata": {},
   "source": [
    "---\n",
    "\n",
    "This notebook's CI test result for us-west-2 is as follows. CI test results in other regions can be found at the end of the notebook. \n",
    "\n",
    "![This us-west-2 badge failed to load. Check your device's internet connectivity, otherwise the service is currently unavailable](https://prod.us-west-2.tcx-beacon.docs.aws.dev/sagemaker-nb/us-west-2/autopilot|autopilot_time_series.ipynb)\n",
    "\n",
    "---"
   ]
  },
  {
   "cell_type": "markdown",
   "id": "4aabc5b5",
   "metadata": {},
   "source": [
    "### Contents\n",
    "\n",
    "1. [Introduction](#introduction)\n",
    "1. [Setup](#setup)\n",
    "1. [Model Training](#training)\n",
    "1. [Real-Time Predictions (Inference)](#realtime)\n",
    "1. [Batch Predictions (Inference)](#batch)\n"
   ]
  },
  {
   "cell_type": "markdown",
   "id": "26b8b247",
   "metadata": {
    "tags": []
   },
   "source": [
    "### 1. Introduction <a name='introduction'>"
   ]
  },
  {
   "cell_type": "markdown",
   "id": "6a921c65",
   "metadata": {},
   "source": [
    "This notebook uses Amazon SageMaker Autopilot to train a time-series model and produce predictions against the trained model. At the top-level, customers provide a set of tabular historical data on S3 and make an API to train a model. Once the model has been trained, you can elect to produce prediction as a batch or via a real-time endpoint.</n></n>  As part of the training process, SageMaker Autopilot manages and runs multiple time series models concurrently. All of these models are combined into a single ensembled model which blends the candidate models in a ratio that minimizes forecast error. Customers are provided with metadata and models for the ensemble and all underlying candidate models too. SageMaker Autopilot orchestrates this entire process and provides several artifacts as a result.\n",
    "\n",
    "These artifacts include: \n",
    "- backtest (holdout) forecasts per base model over multiple time windows,\n",
    "- accuracy metrics per base model,\n",
    "- backtest results and accuracy metrics for the ensembled model,\n",
    "- a scaled explainability report displaying the importance of each covariate and static metadata feature.\n",
    "- all model artifacts are provided as well on S3, which can be registered or use for batch/real-time inference"
   ]
  },
  {
   "cell_type": "markdown",
   "id": "45c2f158",
   "metadata": {},
   "source": [
    "### 2. Setup <a name='setup'>"
   ]
  },
  {
   "cell_type": "code",
   "execution_count": 1,
   "id": "549bb1dc",
   "metadata": {},
   "outputs": [],
   "source": [
    "# Update boto3 using this method, or your preferred method\n",
    "!pip install --upgrade boto3 --quiet\n",
    "!pip install --upgrade sagemaker --quiet"
   ]
  },
  {
   "cell_type": "code",
   "execution_count": 3,
   "id": "65fea64d",
   "metadata": {},
   "outputs": [
    {
     "name": "stdout",
     "output_type": "stream",
     "text": [
      "sagemaker.config INFO - Not applying SDK defaults from location: /etc/xdg/sagemaker/config.yaml\n",
      "sagemaker.config INFO - Not applying SDK defaults from location: /home/ec2-user/.config/sagemaker/config.yaml\n"
     ]
    }
   ],
   "source": [
    "import sagemaker\n",
    "import boto3\n",
    "from sagemaker import get_execution_role\n",
    "from time import gmtime, strftime, sleep\n",
    "import datetime\n",
    "\n",
    "region = boto3.Session().region_name\n",
    "session = sagemaker.Session()\n",
    "\n",
    "# Modify the following default_bucket to use a bucket of your choosing\n",
    "bucket = session.default_bucket()\n",
    "#bucket = 'my-bucket'\n",
    "prefix = 'my-project-name'\n",
    "\n",
    "role = get_execution_role()\n",
    "\n",
    "# This is the client we will use to interact with SageMaker Autopilot\n",
    "sm = boto3.Session().client(service_name=\"sagemaker\", region_name=region)"
   ]
  },
  {
   "cell_type": "code",
   "execution_count": 6,
   "id": "47947269-3581-40f7-8d8d-11658dadf447",
   "metadata": {
    "tags": []
   },
   "outputs": [
    {
     "data": {
      "text/plain": [
       "'sagemaker-us-east-1-174305766568'"
      ]
     },
     "execution_count": 6,
     "metadata": {},
     "output_type": "execute_result"
    }
   ],
   "source": [
    "bucket"
   ]
  },
  {
   "cell_type": "markdown",
   "id": "3748cd56",
   "metadata": {},
   "source": [
    "We provide a sample set of data to accompany this notebook. You may use our synthetic dataset, or alter this notebook to accommodate your own data. As a note, the next cell will copy a file to your S3 bucket and prefix defined in the last cell. As an alternate, we provide a method to copy the file to your local disk too."
   ]
  },
  {
   "cell_type": "markdown",
   "id": "8a090157",
   "metadata": {},
   "source": [
    "IMPORTANT: When training a model, your input data can contain a mixture of covariate and static item metadata. Take care to create future-dated rows that extend to the end of your prediction horizon. In the future-dated rows, carry your static item metadata and expected covariate values. Future-dated target-value (y) should be empty. Please download the example synthetic file using the S3 copy command in the next cell. You can observe the data programmatically or in a text editor as an example.\n",
    "\n",
    "The structure of the CSV file provided is as follows:\n",
    "- product_code (required: ItemIdentifierAttributeName)\n",
    "- product_category (static, categorical feature describing product_code)\n",
    "- product_subcategory (static, categorical feature describing product_code)\n",
    "- location_code (GroupingAttributeNames column to get predictions at product_code + location_code)\n",
    "- scaled_price (covariate)\n",
    "- promotion_email (covariate)\n",
    "- promotion_homepage (covariate)\n",
    "- timestamp (required, TimestampAttributeName)\n",
    "- unit_sales (required: TargetAttributeName)"
   ]
  },
  {
   "cell_type": "code",
   "execution_count": 4,
   "id": "a750583c",
   "metadata": {},
   "outputs": [],
   "source": [
    "s3 = boto3.resource('s3')\n",
    "copy_source = {\n",
    "    'Bucket': 'amazon-forecast-samples',\n",
    "    'Key': 'autopilot/synthetic-food-demand.csv'\n",
    "}\n",
    "\n",
    "s3.meta.client.copy(copy_source, bucket, prefix+'/train/synthetic-food-demand.csv')\n",
    "\n",
    "# Alternate, copy the file for local inspection/use.\n",
    "#!aws s3 cp s3://amazon-forecast-samples/autopilot/synthetic-food-demand.csv ."
   ]
  },
  {
   "cell_type": "markdown",
   "id": "d020b708",
   "metadata": {},
   "source": [
    "### 3. Model Training <a name='training'>"
   ]
  },
  {
   "cell_type": "markdown",
   "id": "f5a9a9a9",
   "metadata": {},
   "source": [
    "Establish an AutoML training job name"
   ]
  },
  {
   "cell_type": "code",
   "execution_count": 24,
   "id": "38a0e801",
   "metadata": {},
   "outputs": [
    {
     "name": "stdout",
     "output_type": "stream",
     "text": [
      "AutoMLJobName: ts-20240530-172148\n"
     ]
    }
   ],
   "source": [
    "timestamp_suffix = strftime(\"%Y%m%d-%H%M%S\", gmtime())\n",
    "auto_ml_job_name = \"ts-\" + timestamp_suffix\n",
    "print(\"AutoMLJobName: \" + auto_ml_job_name)"
   ]
  },
  {
   "cell_type": "code",
   "execution_count": 20,
   "id": "a2fcb577-6175-4659-b088-b89cfdf630e3",
   "metadata": {
    "tags": []
   },
   "outputs": [
    {
     "data": {
      "text/html": [
       "<div>\n",
       "<style scoped>\n",
       "    .dataframe tbody tr th:only-of-type {\n",
       "        vertical-align: middle;\n",
       "    }\n",
       "\n",
       "    .dataframe tbody tr th {\n",
       "        vertical-align: top;\n",
       "    }\n",
       "\n",
       "    .dataframe thead th {\n",
       "        text-align: right;\n",
       "    }\n",
       "</style>\n",
       "<table border=\"1\" class=\"dataframe\">\n",
       "  <thead>\n",
       "    <tr style=\"text-align: right;\">\n",
       "      <th></th>\n",
       "      <th>asin</th>\n",
       "      <th>product_type</th>\n",
       "      <th>type</th>\n",
       "      <th>brand</th>\n",
       "      <th>snapshot_day</th>\n",
       "      <th>gv</th>\n",
       "    </tr>\n",
       "  </thead>\n",
       "  <tbody>\n",
       "    <tr>\n",
       "      <th>0</th>\n",
       "      <td>B0CPBW82R9</td>\n",
       "      <td>TEA</td>\n",
       "      <td>ThreeP</td>\n",
       "      <td>CHAYAM</td>\n",
       "      <td>2024-03-02</td>\n",
       "      <td>26.0</td>\n",
       "    </tr>\n",
       "    <tr>\n",
       "      <th>1</th>\n",
       "      <td>B0CPBW82R9</td>\n",
       "      <td>TEA</td>\n",
       "      <td>ThreeP</td>\n",
       "      <td>CHAYAM</td>\n",
       "      <td>2024-04-13</td>\n",
       "      <td>2.0</td>\n",
       "    </tr>\n",
       "    <tr>\n",
       "      <th>2</th>\n",
       "      <td>B0CPBW82R9</td>\n",
       "      <td>TEA</td>\n",
       "      <td>ThreeP</td>\n",
       "      <td>CHAYAM</td>\n",
       "      <td>2023-12-30</td>\n",
       "      <td>14.0</td>\n",
       "    </tr>\n",
       "    <tr>\n",
       "      <th>3</th>\n",
       "      <td>B0CPBW82R9</td>\n",
       "      <td>TEA</td>\n",
       "      <td>ThreeP</td>\n",
       "      <td>CHAYAM</td>\n",
       "      <td>2023-12-16</td>\n",
       "      <td>2.0</td>\n",
       "    </tr>\n",
       "    <tr>\n",
       "      <th>4</th>\n",
       "      <td>B0CPBW82R9</td>\n",
       "      <td>TEA</td>\n",
       "      <td>ThreeP</td>\n",
       "      <td>CHAYAM</td>\n",
       "      <td>2023-12-09</td>\n",
       "      <td>9.0</td>\n",
       "    </tr>\n",
       "    <tr>\n",
       "      <th>...</th>\n",
       "      <td>...</td>\n",
       "      <td>...</td>\n",
       "      <td>...</td>\n",
       "      <td>...</td>\n",
       "      <td>...</td>\n",
       "      <td>...</td>\n",
       "    </tr>\n",
       "    <tr>\n",
       "      <th>1070774</th>\n",
       "      <td>5023012034</td>\n",
       "      <td>HONEY</td>\n",
       "      <td>ThreeP</td>\n",
       "      <td>Fresh Produce</td>\n",
       "      <td>2022-06-18</td>\n",
       "      <td>875.0</td>\n",
       "    </tr>\n",
       "    <tr>\n",
       "      <th>1070775</th>\n",
       "      <td>5023012034</td>\n",
       "      <td>HONEY</td>\n",
       "      <td>ThreeP</td>\n",
       "      <td>Fresh Produce</td>\n",
       "      <td>2024-04-20</td>\n",
       "      <td>37.0</td>\n",
       "    </tr>\n",
       "    <tr>\n",
       "      <th>1070776</th>\n",
       "      <td>5023012034</td>\n",
       "      <td>HONEY</td>\n",
       "      <td>ThreeP</td>\n",
       "      <td>Fresh Produce</td>\n",
       "      <td>2024-03-02</td>\n",
       "      <td>75.0</td>\n",
       "    </tr>\n",
       "    <tr>\n",
       "      <th>1070777</th>\n",
       "      <td>5023012034</td>\n",
       "      <td>HONEY</td>\n",
       "      <td>ThreeP</td>\n",
       "      <td>Fresh Produce</td>\n",
       "      <td>2022-10-08</td>\n",
       "      <td>947.0</td>\n",
       "    </tr>\n",
       "    <tr>\n",
       "      <th>1070778</th>\n",
       "      <td>5023012034</td>\n",
       "      <td>HONEY</td>\n",
       "      <td>ThreeP</td>\n",
       "      <td>Fresh Produce</td>\n",
       "      <td>2023-12-23</td>\n",
       "      <td>51.0</td>\n",
       "    </tr>\n",
       "  </tbody>\n",
       "</table>\n",
       "<p>1070779 rows × 6 columns</p>\n",
       "</div>"
      ],
      "text/plain": [
       "               asin product_type    type          brand snapshot_day     gv\n",
       "0        B0CPBW82R9          TEA  ThreeP         CHAYAM   2024-03-02   26.0\n",
       "1        B0CPBW82R9          TEA  ThreeP         CHAYAM   2024-04-13    2.0\n",
       "2        B0CPBW82R9          TEA  ThreeP         CHAYAM   2023-12-30   14.0\n",
       "3        B0CPBW82R9          TEA  ThreeP         CHAYAM   2023-12-16    2.0\n",
       "4        B0CPBW82R9          TEA  ThreeP         CHAYAM   2023-12-09    9.0\n",
       "...             ...          ...     ...            ...          ...    ...\n",
       "1070774  5023012034        HONEY  ThreeP  Fresh Produce   2022-06-18  875.0\n",
       "1070775  5023012034        HONEY  ThreeP  Fresh Produce   2024-04-20   37.0\n",
       "1070776  5023012034        HONEY  ThreeP  Fresh Produce   2024-03-02   75.0\n",
       "1070777  5023012034        HONEY  ThreeP  Fresh Produce   2022-10-08  947.0\n",
       "1070778  5023012034        HONEY  ThreeP  Fresh Produce   2023-12-23   51.0\n",
       "\n",
       "[1070779 rows x 6 columns]"
      ]
     },
     "execution_count": 20,
     "metadata": {},
     "output_type": "execute_result"
    }
   ],
   "source": [
    "import pandas as pd\n",
    "#time=pd.read_csv('s3://sagemaker-us-east-1-174305766568/my-project-name/train/Time_Series_Train.csv')\n",
    "# time['snapshot_day']=pd.to_datetime(time['snapshot_day'])\n",
    "time.to_csv('s3://sagemaker-us-east-1-174305766568/my-project-name/train/Time_Series_Train.csv',index=False)\n",
    "time"
   ]
  },
  {
   "cell_type": "markdown",
   "id": "05547c65",
   "metadata": {},
   "source": [
    "Define training job specifications. More information about [create_auto_ml_job_v2](https://boto3.amazonaws.com/v1/documentation/api/latest/reference/services/sagemaker/client/create_auto_ml_job_v2.html) can be found in our SageMaker documentation.</n></n>This JSON body leverages the built-in sample data schema. Please consult the documentation to understand how to alter the parameters for your unique schema."
   ]
  },
  {
   "cell_type": "code",
   "execution_count": null,
   "id": "51c43e38-919d-4a0b-9e3c-64c4c9e1e738",
   "metadata": {},
   "outputs": [],
   "source": [
    "'TimeSeriesForecastingJobConfig': {\n",
    "            'FeatureSpecificationS3Uri': 'string',\n",
    "            'CompletionCriteria': {\n",
    "                'MaxCandidates': 123,\n",
    "                'MaxRuntimePerTrainingJobInSeconds': 123,\n",
    "                'MaxAutoMLJobRuntimeInSeconds': 123\n",
    "            },\n",
    "            'ForecastFrequency': 'string',\n",
    "            'ForecastHorizon': 123,\n",
    "            'ForecastQuantiles': [\n",
    "                'string',\n",
    "            ],\n",
    "            'Transformations': {\n",
    "                'Filling': {\n",
    "                    'string': {\n",
    "                        'string': 'string'\n",
    "                    }\n",
    "                },\n",
    "                'Aggregation': {\n",
    "                    'string': 'sum'|'avg'|'first'|'min'|'max'\n",
    "                }\n",
    "            },\n",
    "            'TimeSeriesConfig': {\n",
    "                'TargetAttributeName': 'string',\n",
    "                'TimestampAttributeName': 'string',\n",
    "                'ItemIdentifierAttributeName': 'string',\n",
    "                'GroupingAttributeNames': [\n",
    "                    'string',\n",
    "                ]\n",
    "            },\n",
    "            'HolidayConfig': [\n",
    "                {\n",
    "                    'CountryCode': 'string'\n",
    "                },\n",
    "            ]\n",
    "        },"
   ]
  },
  {
   "cell_type": "code",
   "execution_count": 22,
   "id": "70732d05",
   "metadata": {},
   "outputs": [],
   "source": [
    "input_data_config = [\n",
    "    {  'ChannelType': 'training',\n",
    "            'ContentType': 'text/csv;header=present',\n",
    "            'CompressionType': 'None',\n",
    "        'DataSource': {\n",
    "            'S3DataSource': {\n",
    "                'S3DataType': 'S3Prefix',\n",
    "                'S3Uri': 's3://{}/{}/train/'.format(bucket, prefix),\n",
    "            }\n",
    "        }\n",
    "    }\n",
    "]\n",
    "\n",
    "output_data_config = {'S3OutputPath': 's3://{}/{}/train_output'.format(bucket, prefix)}\n",
    "\n",
    "optimizaton_metric_config = {'MetricName': 'AverageWeightedQuantileLoss'}\n",
    "\n",
    "automl_problem_type_config ={\n",
    "        'TimeSeriesForecastingJobConfig': {\n",
    "           'CompletionCriteria': {\n",
    "                'MaxCandidates': 1,\n",
    "                'MaxRuntimePerTrainingJobInSeconds': 7200,\n",
    "                'MaxAutoMLJobRuntimeInSeconds': 18000\n",
    "            },\n",
    "            'ForecastFrequency': 'W',\n",
    "            'ForecastHorizon': 4,\n",
    "            'ForecastQuantiles': ['p50','p60','p70','p80','p90'],\n",
    "            'Transformations': {\n",
    "            'Filling': {\n",
    "                'gv': {\n",
    "                    'middlefill' : 'zero',\n",
    "                    'backfill' : 'zero'\n",
    "                    },\n",
    "                \n",
    "                    }\n",
    "            },\n",
    "            'TimeSeriesConfig': {\n",
    "                'TargetAttributeName': 'gv',\n",
    "                'TimestampAttributeName': 'snapshot_day',\n",
    "                'ItemIdentifierAttributeName': 'asin',\n",
    "                \n",
    "            },\n",
    "    'HolidayConfig': [\n",
    "                {\n",
    "                    'CountryCode': 'IN'\n",
    "                }]\n",
    "        }\n",
    "        }\n",
    "    "
   ]
  },
  {
   "cell_type": "markdown",
   "id": "197b145e",
   "metadata": {},
   "source": [
    "With parameters now defined, invoke the [training job](https://boto3.amazonaws.com/v1/documentation/api/latest/reference/services/sagemaker/client/create_auto_ml_job_v2.html) and monitor for its completion. You can expect the training to take about 1 hour."
   ]
  },
  {
   "cell_type": "code",
   "execution_count": 25,
   "id": "12c60098",
   "metadata": {},
   "outputs": [
    {
     "data": {
      "text/plain": [
       "{'AutoMLJobArn': 'arn:aws:sagemaker:us-east-1:174305766568:automl-job/ts-20240530-172148',\n",
       " 'ResponseMetadata': {'RequestId': '1dae9344-99b8-4853-8580-3adc1adc8a54',\n",
       "  'HTTPStatusCode': 200,\n",
       "  'HTTPHeaders': {'x-amzn-requestid': '1dae9344-99b8-4853-8580-3adc1adc8a54',\n",
       "   'content-type': 'application/x-amz-json-1.1',\n",
       "   'content-length': '89',\n",
       "   'date': 'Thu, 30 May 2024 17:21:55 GMT'},\n",
       "  'RetryAttempts': 0}}"
      ]
     },
     "execution_count": 25,
     "metadata": {},
     "output_type": "execute_result"
    }
   ],
   "source": [
    "sm.create_auto_ml_job_v2(\n",
    "    AutoMLJobName=auto_ml_job_name,\n",
    "    AutoMLJobInputDataConfig=input_data_config,\n",
    "    OutputDataConfig=output_data_config,\n",
    "    AutoMLProblemTypeConfig = automl_problem_type_config,\n",
    "    AutoMLJobObjective=optimizaton_metric_config,\n",
    "    RoleArn=role\n",
    ")"
   ]
  },
  {
   "cell_type": "markdown",
   "id": "4fd345f0",
   "metadata": {},
   "source": [
    "Next, we demonstrate a looping mechanism to query (monitor) job status. When the status is ```Completed```, you may review the accuracy of the model and decide whether to perform inference on a batch or real-time API basis as described in this notebook. Please consult documentation for [describe_auto_ml_job_v2](https://boto3.amazonaws.com/v1/documentation/api/latest/reference/services/sagemaker/client/describe_auto_ml_job_v2.html) as needed."
   ]
  },
  {
   "cell_type": "code",
   "execution_count": 21,
   "id": "f0949028-5441-4b44-9673-cb05761f23f1",
   "metadata": {
    "tags": []
   },
   "outputs": [
    {
     "data": {
      "text/plain": [
       "{'AutoMLJobName': 'ts-20240530-170649',\n",
       " 'AutoMLJobArn': 'arn:aws:sagemaker:us-east-1:174305766568:automl-job/ts-20240530-170649',\n",
       " 'AutoMLJobInputDataConfig': [{'ChannelType': 'training',\n",
       "   'ContentType': 'text/csv;header=present',\n",
       "   'CompressionType': 'None',\n",
       "   'DataSource': {'S3DataSource': {'S3DataType': 'S3Prefix',\n",
       "     'S3Uri': 's3://sagemaker-us-east-1-174305766568/my-project-name/train/'}}}],\n",
       " 'OutputDataConfig': {'S3OutputPath': 's3://sagemaker-us-east-1-174305766568/my-project-name/train_output'},\n",
       " 'RoleArn': 'arn:aws:iam::174305766568:role/service-role/AmazonSageMaker-ExecutionRole-20240509T161882',\n",
       " 'AutoMLJobObjective': {'MetricName': 'AverageWeightedQuantileLoss'},\n",
       " 'AutoMLProblemTypeConfig': {'TimeSeriesForecastingJobConfig': {'CompletionCriteria': {'MaxCandidates': 1,\n",
       "    'MaxRuntimePerTrainingJobInSeconds': 7200,\n",
       "    'MaxAutoMLJobRuntimeInSeconds': 18000},\n",
       "   'ForecastFrequency': 'W',\n",
       "   'ForecastHorizon': 48,\n",
       "   'ForecastQuantiles': ['p50', 'p60', 'p70', 'p80', 'p90'],\n",
       "   'Transformations': {'Filling': {'gv': {'backfill': 'zero',\n",
       "      'middlefill': 'zero'}}},\n",
       "   'TimeSeriesConfig': {'TargetAttributeName': 'gv',\n",
       "    'TimestampAttributeName': 'snapshot_day',\n",
       "    'ItemIdentifierAttributeName': 'asin'},\n",
       "   'HolidayConfig': [{'CountryCode': 'IN'}]}},\n",
       " 'AutoMLProblemTypeConfigName': 'TimeSeriesForecasting',\n",
       " 'CreationTime': datetime.datetime(2024, 5, 30, 17, 7, 0, 880000, tzinfo=tzlocal()),\n",
       " 'EndTime': datetime.datetime(2024, 5, 30, 17, 13, 58, 528000, tzinfo=tzlocal()),\n",
       " 'LastModifiedTime': datetime.datetime(2024, 5, 30, 17, 13, 58, 557000, tzinfo=tzlocal()),\n",
       " 'FailureReason': 'AutoML execution failed with reason ClientError: None of the items in the target column have sufficient historical data to train on. Please consider reducing the ForecastHorizon and/or increasing historical data and try creating the AutoMLJob again., exit code: 0',\n",
       " 'AutoMLJobStatus': 'Failed',\n",
       " 'AutoMLJobSecondaryStatus': 'Failed',\n",
       " 'AutoMLJobArtifacts': {'DataExplorationNotebookLocation': 's3://sagemaker-us-east-1-174305766568/my-project-name/train_output/ts-20240530-170649/preprocessed-data/documentation/notebooks/SageMakerAutopilotDataExplorationNotebook.ipynb'},\n",
       " 'ResponseMetadata': {'RequestId': 'bf76f1c7-dcb3-49d1-acd6-f3d400d0ba81',\n",
       "  'HTTPStatusCode': 200,\n",
       "  'HTTPHeaders': {'x-amzn-requestid': 'bf76f1c7-dcb3-49d1-acd6-f3d400d0ba81',\n",
       "   'content-type': 'application/x-amz-json-1.1',\n",
       "   'content-length': '1895',\n",
       "   'date': 'Thu, 30 May 2024 17:16:24 GMT'},\n",
       "  'RetryAttempts': 0}}"
      ]
     },
     "execution_count": 21,
     "metadata": {},
     "output_type": "execute_result"
    }
   ],
   "source": [
    "describe_response"
   ]
  },
  {
   "cell_type": "code",
   "execution_count": null,
   "id": "7afdd942",
   "metadata": {},
   "outputs": [
    {
     "name": "stdout",
     "output_type": "stream",
     "text": [
      "2024-05-30 17:22:14.846454 InProgress - PreTraining\n",
      "2024-05-30 17:25:15.043453 InProgress - PreTraining\n",
      "2024-05-30 17:28:15.275680 InProgress - PreTraining\n",
      "2024-05-30 17:31:15.442477 InProgress - PreTraining\n",
      "2024-05-30 17:34:15.671442 InProgress - TrainingModels\n",
      "2024-05-30 17:37:15.873943 InProgress - TrainingModels\n",
      "2024-05-30 17:40:16.040432 InProgress - TrainingModels\n",
      "2024-05-30 17:43:16.275633 InProgress - TrainingModels\n",
      "2024-05-30 17:46:16.424039 InProgress - TrainingModels\n",
      "2024-05-30 17:49:16.631457 InProgress - TrainingModels\n",
      "2024-05-30 17:52:16.818975 InProgress - TrainingModels\n",
      "2024-05-30 17:55:17.040061 InProgress - TrainingModels\n",
      "2024-05-30 17:58:17.251878 InProgress - TrainingModels\n",
      "2024-05-30 18:01:17.476272 InProgress - TrainingModels\n"
     ]
    }
   ],
   "source": [
    "describe_response = sm.describe_auto_ml_job_v2(AutoMLJobName=auto_ml_job_name)\n",
    "job_run_status = describe_response[\"AutoMLJobStatus\"]\n",
    "\n",
    "while job_run_status not in (\"Failed\", \"Completed\", \"Stopped\"):\n",
    "    describe_response = sm.describe_auto_ml_job_v2(AutoMLJobName=auto_ml_job_name)\n",
    "    job_run_status = describe_response[\"AutoMLJobStatus\"]\n",
    "\n",
    "    print(\n",
    "       datetime.datetime.now(), describe_response[\"AutoMLJobStatus\"] + \" - \" + describe_response[\"AutoMLJobSecondaryStatus\"]\n",
    "    )\n",
    "    sleep(180)"
   ]
  },
  {
   "cell_type": "markdown",
   "id": "e73c7bbb",
   "metadata": {},
   "source": [
    "Once training is completed, you can use the describe function to iterate over model leaderboard results. Below is an example to use the best candidate in the subsequent inference phase. Please consult our documentation on [create_model](https://boto3.amazonaws.com/v1/documentation/api/latest/reference/services/sagemaker/client/create_model.html) as needed."
   ]
  },
  {
   "cell_type": "code",
   "execution_count": 27,
   "id": "8e330f7a",
   "metadata": {},
   "outputs": [
    {
     "name": "stdout",
     "output_type": "stream",
     "text": [
      "BestCandidateName: ts-20240530-172148-trial-me-1\n",
      "BestCandidateContainers: [{'Image': '473393118567.dkr.ecr.us-east-1.amazonaws.com/autopilot-timeseries:latest', 'ModelDataUrl': 's3://sagemaker-us-east-1-174305766568/my-project-name/train_output/ts-20240530-172148/ts-20240530-172148-trial-TimeSeriesModelTraining/models/model-ensemble/full-dataset/ts-20240530-172148-me-1-aa880af29cb240a388ce9095e1f3dfbacf52f01/output/model.tar.gz', 'Environment': {}}]\n"
     ]
    }
   ],
   "source": [
    "best_candidate = sm.describe_auto_ml_job_v2(AutoMLJobName=auto_ml_job_name)['BestCandidate']\n",
    "best_candidate_containers = best_candidate['InferenceContainers'] \n",
    "best_candidate_name = best_candidate['CandidateName']\n",
    "\n",
    "reponse = sm.create_model(\n",
    "ModelName = best_candidate_name,\n",
    "ExecutionRoleArn = role,\n",
    "Containers = best_candidate_containers\n",
    ")\n",
    "\n",
    "print('BestCandidateName:',best_candidate_name)\n",
    "print('BestCandidateContainers:',best_candidate_containers)"
   ]
  },
  {
   "cell_type": "code",
   "execution_count": 28,
   "id": "1b6eb040-bb13-484e-bc92-45da7dc4449d",
   "metadata": {
    "tags": []
   },
   "outputs": [
    {
     "data": {
      "text/plain": [
       "{'AutoMLJobName': 'ts-20240530-172148',\n",
       " 'AutoMLJobArn': 'arn:aws:sagemaker:us-east-1:174305766568:automl-job/ts-20240530-172148',\n",
       " 'AutoMLJobInputDataConfig': [{'ChannelType': 'training',\n",
       "   'ContentType': 'text/csv;header=present',\n",
       "   'CompressionType': 'None',\n",
       "   'DataSource': {'S3DataSource': {'S3DataType': 'S3Prefix',\n",
       "     'S3Uri': 's3://sagemaker-us-east-1-174305766568/my-project-name/train/'}}}],\n",
       " 'OutputDataConfig': {'S3OutputPath': 's3://sagemaker-us-east-1-174305766568/my-project-name/train_output'},\n",
       " 'RoleArn': 'arn:aws:iam::174305766568:role/service-role/AmazonSageMaker-ExecutionRole-20240509T161882',\n",
       " 'AutoMLJobObjective': {'MetricName': 'AverageWeightedQuantileLoss'},\n",
       " 'AutoMLProblemTypeConfig': {'TimeSeriesForecastingJobConfig': {'CompletionCriteria': {'MaxCandidates': 1,\n",
       "    'MaxRuntimePerTrainingJobInSeconds': 7200,\n",
       "    'MaxAutoMLJobRuntimeInSeconds': 18000},\n",
       "   'ForecastFrequency': 'W',\n",
       "   'ForecastHorizon': 4,\n",
       "   'ForecastQuantiles': ['p50', 'p60', 'p70', 'p80', 'p90'],\n",
       "   'Transformations': {'Filling': {'gv': {'backfill': 'zero',\n",
       "      'middlefill': 'zero'}}},\n",
       "   'TimeSeriesConfig': {'TargetAttributeName': 'gv',\n",
       "    'TimestampAttributeName': 'snapshot_day',\n",
       "    'ItemIdentifierAttributeName': 'asin'},\n",
       "   'HolidayConfig': [{'CountryCode': 'IN'}]}},\n",
       " 'AutoMLProblemTypeConfigName': 'TimeSeriesForecasting',\n",
       " 'CreationTime': datetime.datetime(2024, 5, 30, 17, 21, 55, 44000, tzinfo=tzlocal()),\n",
       " 'EndTime': datetime.datetime(2024, 5, 30, 18, 41, 49, 969000, tzinfo=tzlocal()),\n",
       " 'LastModifiedTime': datetime.datetime(2024, 5, 30, 18, 41, 50, tzinfo=tzlocal()),\n",
       " 'BestCandidate': {'CandidateName': 'ts-20240530-172148-trial-me-1',\n",
       "  'FinalAutoMLJobObjectiveMetric': {'Type': 'Minimize',\n",
       "   'MetricName': 'AVERAGE_WEIGHTED_QUANTILE_LOSS',\n",
       "   'Value': 0.37181901931762695,\n",
       "   'StandardMetricName': 'AverageWeightedQuantileLoss'},\n",
       "  'ObjectiveStatus': 'Succeeded',\n",
       "  'CandidateSteps': [{'CandidateStepType': 'AWS::SageMaker::TrainingJob',\n",
       "    'CandidateStepArn': 'arn:aws:sagemaker:us-east-1:174305766568:training-job/ts-20240530-172148-me-1-aa880af29cb240a388ce9095e1f3dfbacf52f01',\n",
       "    'CandidateStepName': 'ts-20240530-172148-me-1-aa880af29cb240a388ce9095e1f3dfbacf52f01'}],\n",
       "  'CandidateStatus': 'Completed',\n",
       "  'InferenceContainers': [{'Image': '473393118567.dkr.ecr.us-east-1.amazonaws.com/autopilot-timeseries:latest',\n",
       "    'ModelDataUrl': 's3://sagemaker-us-east-1-174305766568/my-project-name/train_output/ts-20240530-172148/ts-20240530-172148-trial-TimeSeriesModelTraining/models/model-ensemble/full-dataset/ts-20240530-172148-me-1-aa880af29cb240a388ce9095e1f3dfbacf52f01/output/model.tar.gz',\n",
       "    'Environment': {}}],\n",
       "  'CreationTime': datetime.datetime(2024, 5, 30, 18, 28, 41, 565000, tzinfo=tzlocal()),\n",
       "  'EndTime': datetime.datetime(2024, 5, 30, 18, 37, 34, 225000, tzinfo=tzlocal()),\n",
       "  'LastModifiedTime': datetime.datetime(2024, 5, 30, 18, 37, 37, 349000, tzinfo=tzlocal()),\n",
       "  'CandidateProperties': {'CandidateArtifactLocations': {'Explainability': 's3://sagemaker-us-east-1-174305766568/my-project-name/train_output/ts-20240530-172148/ts-20240530-172148-trial-TimeSeriesModelTraining/documentation/explainability',\n",
       "    'ModelInsights': 's3://sagemaker-us-east-1-174305766568/my-project-name/train_output/ts-20240530-172148/ts-20240530-172148-trial-TimeSeriesModelTraining/documentation/model_monitor',\n",
       "    'BacktestResults': 's3://sagemaker-us-east-1-174305766568/my-project-name/train_output/ts-20240530-172148/ts-20240530-172148-trial-TimeSeriesModelTraining/backtest-export/model-ensemble/backtest-1'},\n",
       "   'CandidateMetrics': [{'MetricName': 'RMSE',\n",
       "     'Value': 2856.84423828125,\n",
       "     'StandardMetricName': 'RMSE'},\n",
       "    {'MetricName': 'MAPE',\n",
       "     'Value': 0.7628296613693237,\n",
       "     'StandardMetricName': 'MAPE'},\n",
       "    {'MetricName': 'AverageWeightedQuantileLoss',\n",
       "     'Value': 0.37181901931762695,\n",
       "     'StandardMetricName': 'AverageWeightedQuantileLoss'},\n",
       "    {'MetricName': 'MASE',\n",
       "     'Value': 1.856366753578186,\n",
       "     'StandardMetricName': 'MASE'},\n",
       "    {'MetricName': 'WAPE',\n",
       "     'Value': 0.36567872762680054,\n",
       "     'StandardMetricName': 'WAPE'}]},\n",
       "  'InferenceContainerDefinitions': {'CPU': [{'Image': '473393118567.dkr.ecr.us-east-1.amazonaws.com/autopilot-timeseries:latest',\n",
       "     'ModelDataUrl': 's3://sagemaker-us-east-1-174305766568/my-project-name/train_output/ts-20240530-172148/ts-20240530-172148-trial-TimeSeriesModelTraining/models/model-ensemble/full-dataset/ts-20240530-172148-me-1-aa880af29cb240a388ce9095e1f3dfbacf52f01/output/model.tar.gz',\n",
       "     'Environment': {}}]}},\n",
       " 'AutoMLJobStatus': 'Completed',\n",
       " 'AutoMLJobSecondaryStatus': 'Completed',\n",
       " 'AutoMLJobArtifacts': {'DataExplorationNotebookLocation': 's3://sagemaker-us-east-1-174305766568/my-project-name/train_output/ts-20240530-172148/preprocessed-data/documentation/notebooks/SageMakerAutopilotDataExplorationNotebook.ipynb'},\n",
       " 'ResponseMetadata': {'RequestId': '6c1aaa96-ca70-4898-9dac-6cd16ddd8630',\n",
       "  'HTTPStatusCode': 200,\n",
       "  'HTTPHeaders': {'x-amzn-requestid': '6c1aaa96-ca70-4898-9dac-6cd16ddd8630',\n",
       "   'content-type': 'application/x-amz-json-1.1',\n",
       "   'content-length': '4213',\n",
       "   'date': 'Fri, 31 May 2024 04:22:09 GMT'},\n",
       "  'RetryAttempts': 0}}"
      ]
     },
     "execution_count": 28,
     "metadata": {},
     "output_type": "execute_result"
    }
   ],
   "source": [
    "sm.describe_auto_ml_job_v2(AutoMLJobName=auto_ml_job_name)"
   ]
  },
  {
   "cell_type": "markdown",
   "id": "c63e1d31",
   "metadata": {},
   "source": [
    "### 4. Real-Time Predictions (Inference) <a name='realtime'>"
   ]
  },
  {
   "cell_type": "markdown",
   "id": "f70a46de",
   "metadata": {},
   "source": [
    "If you want to perform real-time inference, review this section. If you want to perform batch processing, you may skip the real-time inference section and move to [Batch Predictions (Inference)](#batch)."
   ]
  },
  {
   "cell_type": "markdown",
   "id": "5fd6c171",
   "metadata": {},
   "source": [
    "Define a model, endpoint configuration and endpoint name using the candidate metadata. Consult [create_endpoint_config](https://boto3.amazonaws.com/v1/documentation/api/latest/reference/services/sagemaker/client/create_endpoint_config.html) documentation for more detail. Additionally, please adjust the ```InstanceType``` and ```InitialInstanceCount``` according to need."
   ]
  },
  {
   "cell_type": "markdown",
   "id": "39743302",
   "metadata": {},
   "source": [
    "IMPORTANT: The data you supply for inference must have at least four valid historical values for each time-series."
   ]
  },
  {
   "cell_type": "code",
   "execution_count": null,
   "id": "b0f63c56",
   "metadata": {},
   "outputs": [],
   "source": [
    "endpoint_config_name = f\"epc-{best_candidate_name}\"\n",
    "endpoint_name = f\"ep-{best_candidate_name}\"\n",
    "\n",
    "production_variants = [\n",
    "        {\n",
    "            \"InstanceType\": \"ml.m5.2xlarge\",\n",
    "            \"InitialInstanceCount\": 1,\n",
    "            \"ModelName\": best_candidate_name,\n",
    "            \"VariantName\": \"AllTraffic\",\n",
    "        }\n",
    "    ]\n",
    "\n",
    "epc_response = sm.create_endpoint_config(\n",
    "    EndpointConfigName=endpoint_config_name,\n",
    "    ProductionVariants=production_variants\n",
    ")"
   ]
  },
  {
   "cell_type": "markdown",
   "id": "5092d7d7",
   "metadata": {},
   "source": [
    "Next, you can deploy a real-time endpoint using the [create_endpoint](https://boto3.amazonaws.com/v1/documentation/api/latest/reference/services/sagemaker/client/create_endpoint.html\n",
    ") API. See the documentation for more details and options."
   ]
  },
  {
   "cell_type": "code",
   "execution_count": null,
   "id": "12157126",
   "metadata": {},
   "outputs": [],
   "source": [
    "sm.create_endpoint(\n",
    "    EndpointName=endpoint_name, \n",
    "    EndpointConfigName=endpoint_config_name)"
   ]
  },
  {
   "cell_type": "markdown",
   "id": "2def852f",
   "metadata": {},
   "source": [
    "Poll for endpoint to become ready to serve (InService)"
   ]
  },
  {
   "cell_type": "code",
   "execution_count": null,
   "id": "e4be9a26",
   "metadata": {},
   "outputs": [],
   "source": [
    "describe_response = sm.describe_endpoint(EndpointName=endpoint_name)\n",
    "\n",
    "job_run_status = describe_response[\"EndpointStatus\"]\n",
    "\n",
    "while job_run_status not in (\"Failed\", \"InService\", \"Stopped\"):\n",
    "    describe_response = sm.describe_endpoint(EndpointName=endpoint_name)\n",
    "    job_run_status = describe_response[\"EndpointStatus\"]\n",
    "\n",
    "    print(\n",
    "       datetime.datetime.now(), describe_response[\"EndpointStatus\"])\n",
    "    sleep(60)"
   ]
  },
  {
   "cell_type": "markdown",
   "id": "ee9ac989",
   "metadata": {},
   "source": [
    "The next cells help demonstrate opening a local CSV file for inference. Alternately, this data could come from S3, a database query or live application. In this example, the data is loaded into a Python memory object."
   ]
  },
  {
   "cell_type": "code",
   "execution_count": null,
   "id": "d7b9c1a2",
   "metadata": {},
   "outputs": [],
   "source": [
    "# A small sample file that corresponds to the sample training dataset and trained model schema\n",
    "!aws s3 cp s3://amazon-forecast-samples/autopilot/real-time-payload.csv ./real-time-payload.csv"
   ]
  },
  {
   "cell_type": "code",
   "execution_count": null,
   "id": "163e69f0",
   "metadata": {},
   "outputs": [],
   "source": [
    "input_file = './real-time-payload.csv'\n",
    "f=open(input_file,'r')\n",
    "inference_data = f.read()\n",
    "f.close()"
   ]
  },
  {
   "cell_type": "markdown",
   "id": "24f0e56a",
   "metadata": {},
   "source": [
    "Method to instantiate SageMaker runtime client and [invoke endpoint](https://boto3.amazonaws.com/v1/documentation/api/latest/reference/services/sagemaker-runtime/client/invoke_endpoint.html). Please note the guidance given in the documentation page which says the response must be within 60 seconds of invocation. Response times are a function of payload size. You should take care to provide history for single time-series, and carefully testing the ability to perform predictions for more than one time-series at a time."
   ]
  },
  {
   "cell_type": "code",
   "execution_count": null,
   "id": "50540007",
   "metadata": {},
   "outputs": [],
   "source": [
    "sm_client = boto3.client('sagemaker-runtime')"
   ]
  },
  {
   "cell_type": "code",
   "execution_count": null,
   "id": "4dca1239",
   "metadata": {},
   "outputs": [],
   "source": [
    "response = sm_client.invoke_endpoint(\n",
    "    EndpointName= endpoint_name,\n",
    "    Body= inference_data,\n",
    "    ContentType = 'text/csv')\n",
    "\n",
    "prediction = response['Body'].read().decode()"
   ]
  },
  {
   "cell_type": "markdown",
   "id": "a7ba2c75",
   "metadata": {},
   "source": [
    "At this point, the results from the real-time API call are loaded into a variable called ```prediction```. You have several options on what you do with the results. A few are given here."
   ]
  },
  {
   "cell_type": "markdown",
   "id": "920d5dd0",
   "metadata": {},
   "source": [
    "Optional: Example of saving the resulting real-time predictions to a local filesystem. Carefully plan your naming convention."
   ]
  },
  {
   "cell_type": "code",
   "execution_count": null,
   "id": "ad3930f3",
   "metadata": {},
   "outputs": [],
   "source": [
    "output_file = 'real-time-prediction-output.csv'\n",
    "f=open(output_file,'w')\n",
    "f.write(prediction)\n",
    "f.close()"
   ]
  },
  {
   "cell_type": "markdown",
   "id": "158b4b85",
   "metadata": {},
   "source": [
    "Optional: Example of saving the resulting real-time predictions to a S3 object. Carefully plan your naming convention."
   ]
  },
  {
   "cell_type": "code",
   "execution_count": null,
   "id": "01a35a61",
   "metadata": {},
   "outputs": [],
   "source": [
    "output_file = 'real-time-prediction-output.csv'\n",
    "key='s3://{}/{}/realtime_inference/{}'.format(bucket, prefix, output_file)\n",
    "\n",
    "s3_client = boto3.client('s3')\n",
    "s3_client.put_object(Body=prediction, Bucket=bucket, Key=key)"
   ]
  },
  {
   "cell_type": "markdown",
   "id": "2b065956",
   "metadata": {},
   "source": [
    "Optional: Example of loading predictions into a Panda dataframe"
   ]
  },
  {
   "cell_type": "code",
   "execution_count": null,
   "id": "a2d924d6",
   "metadata": {},
   "outputs": [],
   "source": [
    "import pandas as pd\n",
    "from io import StringIO\n",
    "df = pd.read_csv(StringIO(prediction), sep=',')\n",
    "df.head(10)"
   ]
  },
  {
   "cell_type": "markdown",
   "id": "aa9a25ed",
   "metadata": {},
   "source": [
    "Finally, you may also elect to place predictions in a SQS queue, post them to a stream, or post them to another real-time API according to need."
   ]
  },
  {
   "cell_type": "markdown",
   "id": "6e041d38",
   "metadata": {},
   "source": [
    "#### Cleanup Real-time Endpoint Resources\n",
    "\n",
    "As needed, you can stop the endpoint and related billing costs as follows. When you need the endpoint again, you can follow the deployment steps again. Ideally, at a future time, another newer model is trained and able to be deployed as well."
   ]
  },
  {
   "cell_type": "code",
   "execution_count": null,
   "id": "8970534c",
   "metadata": {},
   "outputs": [],
   "source": [
    "sm.delete_endpoint(EndpointName=endpoint_name)"
   ]
  },
  {
   "cell_type": "code",
   "execution_count": null,
   "id": "00f2e748",
   "metadata": {},
   "outputs": [],
   "source": [
    "sm.delete_endpoint_config(EndpointConfigName=endpoint_config_name)"
   ]
  },
  {
   "cell_type": "markdown",
   "id": "dac7f793",
   "metadata": {},
   "source": [
    "Caution: Do not delete the model if you intend on testing batch transformation too. If you do delete the model, you may redeploy it as long as the model artifact exists on S3. The next cell provides the container and S3 location for your best candidate model."
   ]
  },
  {
   "cell_type": "code",
   "execution_count": null,
   "id": "7657f73f",
   "metadata": {},
   "outputs": [],
   "source": [
    "print('BestCandidateContainers:',best_candidate_containers)"
   ]
  },
  {
   "cell_type": "code",
   "execution_count": null,
   "id": "7607cc04",
   "metadata": {},
   "outputs": [],
   "source": [
    "sm.delete_model(ModelName=best_candidate_name)"
   ]
  },
  {
   "cell_type": "markdown",
   "id": "3b67cb6b",
   "metadata": {},
   "source": [
    "### 5. Batch Predictions (Inference) <a name='batch'>"
   ]
  },
  {
   "cell_type": "markdown",
   "id": "3ff908af",
   "metadata": {},
   "source": [
    "Please review [service limits](https://docs.aws.amazon.com/marketplace/latest/userguide/ml-service-restrictions-and-limits.html\n",
    ") with batch transform. At the time of writing, the documentation says the maximum size of the input data per invocation is 100 MB. Translated, when working with \n",
    "datasets over 100MB, you will need to prepare your data by splitting/sharding into multiple files.\n",
    " Take care to ensure each file contains whole time series. One potential way to do this is to use\n",
    " a function that splits data on the item key, or similar.\n",
    "\n"
   ]
  },
  {
   "cell_type": "markdown",
   "id": "6c7bc8a9",
   "metadata": {},
   "source": [
    "Launch Batch Transformation Job using [create_transform_job](https://boto3.amazonaws.com/v1/documentation/api/latest/reference/services/sagemaker/client/create_transform_job.html). The runtime of the job is a function of the size of your data and the InstanceType and InstanceCount provided. Once the task is complete, results are available on S3 at the declared ```S3OutputPath``` location. From there, you can use an event handler or other mechanism to consume the results."
   ]
  },
  {
   "cell_type": "code",
   "execution_count": null,
   "id": "607975d7",
   "metadata": {},
   "outputs": [],
   "source": [
    "timestamp_suffix = strftime(\"%Y%m%d-%H%M%S\", gmtime())\n",
    "transform_job_name=f'{best_candidate_name}-' + timestamp_suffix\n",
    "print(\"BatchTransformJob: \" + transform_job_name)"
   ]
  },
  {
   "cell_type": "markdown",
   "id": "dcd4e1d7",
   "metadata": {},
   "source": [
    "The next cell downloads a dataset once again and this time places in a ```batch_transform/input``` folder. Ideally, this input dataset can be all of your time-series, or a fraction thereof. Please take care to ensure the dataset is within the limits described."
   ]
  },
  {
   "cell_type": "markdown",
   "id": "95c04bcf",
   "metadata": {},
   "source": [
    "IMPORTANT: The data you supply for inference must have at least four valid historical values for each time-series."
   ]
  },
  {
   "cell_type": "code",
   "execution_count": null,
   "id": "e411c33f",
   "metadata": {},
   "outputs": [],
   "source": [
    "s3 = boto3.resource('s3')\n",
    "copy_source = {\n",
    "    'Bucket': 'amazon-forecast-samples',\n",
    "    'Key': 'autopilot/synthetic-food-demand.csv'\n",
    "}\n",
    "\n",
    "s3.meta.client.copy(copy_source, bucket, prefix+'/batch_transform/input/synthetic-food-demand.csv')"
   ]
  },
  {
   "cell_type": "code",
   "execution_count": null,
   "id": "d2bd4e7b",
   "metadata": {},
   "outputs": [],
   "source": [
    "response = sm.create_transform_job(\n",
    "    TransformJobName=transform_job_name, \n",
    "    ModelName=best_candidate_name,\n",
    "    MaxPayloadInMB=0,\n",
    "    ModelClientConfig={\n",
    "        'InvocationsTimeoutInSeconds': 3600\n",
    "    },\n",
    "    TransformInput={\n",
    "        'DataSource': {\n",
    "            'S3DataSource': {\n",
    "                'S3DataType': 'S3Prefix',\n",
    "                'S3Uri': 's3://{}/{}/batch_transform/input/'.format(bucket, prefix)\n",
    "            }\n",
    "        },\n",
    "        'ContentType': 'text/csv',\n",
    "        'SplitType': 'None'\n",
    "    },\n",
    "    TransformOutput={\n",
    "        'S3OutputPath': 's3://{}/{}/batch_transform/output/'.format(bucket, prefix),\n",
    "        'AssembleWith': 'Line',\n",
    "    },\n",
    "    TransformResources={\n",
    "        'InstanceType': 'ml.m5.12xlarge',\n",
    "        'InstanceCount': 1\n",
    "    }\n",
    "    )"
   ]
  },
  {
   "cell_type": "markdown",
   "id": "2edf0a6e",
   "metadata": {},
   "source": [
    "Poll for batch transformation job to complete. Once completed, resulting prediction files are available at the URI shown in the prior cell, ```S3OutputPath```. We use the API method [describe_transform_job](https://boto3.amazonaws.com/v1/documentation/api/latest/reference/services/sagemaker/client/describe_transform_job.html) to complete this step."
   ]
  },
  {
   "cell_type": "code",
   "execution_count": null,
   "id": "671b2a70",
   "metadata": {},
   "outputs": [],
   "source": [
    "describe_response = sm.describe_transform_job(TransformJobName=transform_job_name)\n",
    "\n",
    "job_run_status = describe_response[\"TransformJobStatus\"]\n",
    "\n",
    "while job_run_status not in (\"Failed\", \"Completed\", \"Stopped\"):\n",
    "    describe_response = sm.describe_transform_job(TransformJobName=transform_job_name)\n",
    "    job_run_status = describe_response[\"TransformJobStatus\"]\n",
    "\n",
    "    print(\n",
    "       datetime.datetime.now(), describe_response[\"TransformJobStatus\"]\n",
    "    )\n",
    "    sleep(60)"
   ]
  },
  {
   "cell_type": "markdown",
   "id": "5db4fc29",
   "metadata": {},
   "source": [
    "## Notebook CI Test Results\n",
    "\n",
    "This notebook was tested in multiple regions. The test results are as follows, except for us-west-2 which is shown at the top of the notebook.\n",
    "\n",
    "![This us-east-1 badge failed to load. Check your device's internet connectivity, otherwise the service is currently unavailable](https://prod.us-west-2.tcx-beacon.docs.aws.dev/sagemaker-nb/us-east-1/autopilot|autopilot_time_series.ipynb)\n",
    "\n",
    "![This us-east-2 badge failed to load. Check your device's internet connectivity, otherwise the service is currently unavailable](https://prod.us-west-2.tcx-beacon.docs.aws.dev/sagemaker-nb/us-east-2/autopilot|autopilot_time_series.ipynb)\n",
    "\n",
    "![This us-west-1 badge failed to load. Check your device's internet connectivity, otherwise the service is currently unavailable](https://prod.us-west-2.tcx-beacon.docs.aws.dev/sagemaker-nb/us-west-1/autopilot|autopilot_time_series.ipynb)\n",
    "\n",
    "![This ca-central-1 badge failed to load. Check your device's internet connectivity, otherwise the service is currently unavailable](https://prod.us-west-2.tcx-beacon.docs.aws.dev/sagemaker-nb/ca-central-1/autopilot|autopilot_time_series.ipynb)\n",
    "\n",
    "![This sa-east-1 badge failed to load. Check your device's internet connectivity, otherwise the service is currently unavailable](https://prod.us-west-2.tcx-beacon.docs.aws.dev/sagemaker-nb/sa-east-1/autopilot|autopilot_time_series.ipynb)\n",
    "\n",
    "![This eu-west-1 badge failed to load. Check your device's internet connectivity, otherwise the service is currently unavailable](https://prod.us-west-2.tcx-beacon.docs.aws.dev/sagemaker-nb/eu-west-1/autopilot|autopilot_time_series.ipynb)\n",
    "\n",
    "![This eu-west-2 badge failed to load. Check your device's internet connectivity, otherwise the service is currently unavailable](https://prod.us-west-2.tcx-beacon.docs.aws.dev/sagemaker-nb/eu-west-2/autopilot|autopilot_time_series.ipynb)\n",
    "\n",
    "![This eu-west-3 badge failed to load. Check your device's internet connectivity, otherwise the service is currently unavailable](https://prod.us-west-2.tcx-beacon.docs.aws.dev/sagemaker-nb/eu-west-3/autopilot|autopilot_time_series.ipynb)\n",
    "\n",
    "![This eu-central-1 badge failed to load. Check your device's internet connectivity, otherwise the service is currently unavailable](https://prod.us-west-2.tcx-beacon.docs.aws.dev/sagemaker-nb/eu-central-1/autopilot|autopilot_time_series.ipynb)\n",
    "\n",
    "![This eu-north-1 badge failed to load. Check your device's internet connectivity, otherwise the service is currently unavailable](https://prod.us-west-2.tcx-beacon.docs.aws.dev/sagemaker-nb/eu-north-1/autopilot|autopilot_time_series.ipynb)\n",
    "\n",
    "![This ap-southeast-1 badge failed to load. Check your device's internet connectivity, otherwise the service is currently unavailable](https://prod.us-west-2.tcx-beacon.docs.aws.dev/sagemaker-nb/ap-southeast-1/autopilot|autopilot_time_series.ipynb)\n",
    "\n",
    "![This ap-southeast-2 badge failed to load. Check your device's internet connectivity, otherwise the service is currently unavailable](https://prod.us-west-2.tcx-beacon.docs.aws.dev/sagemaker-nb/ap-southeast-2/autopilot|autopilot_time_series.ipynb)\n",
    "\n",
    "![This ap-northeast-1 badge failed to load. Check your device's internet connectivity, otherwise the service is currently unavailable](https://prod.us-west-2.tcx-beacon.docs.aws.dev/sagemaker-nb/ap-northeast-1/autopilot|autopilot_time_series.ipynb)\n",
    "\n",
    "![This ap-northeast-2 badge failed to load. Check your device's internet connectivity, otherwise the service is currently unavailable](https://prod.us-west-2.tcx-beacon.docs.aws.dev/sagemaker-nb/ap-northeast-2/autopilot|autopilot_time_series.ipynb)\n",
    "\n",
    "![This ap-south-1 badge failed to load. Check your device's internet connectivity, otherwise the service is currently unavailable](https://prod.us-west-2.tcx-beacon.docs.aws.dev/sagemaker-nb/ap-south-1/autopilot|autopilot_time_series.ipynb)\n"
   ]
  }
 ],
 "metadata": {
  "availableInstances": [
   {
    "_defaultOrder": 0,
    "_isFastLaunch": true,
    "category": "General purpose",
    "gpuNum": 0,
    "hideHardwareSpecs": false,
    "memoryGiB": 4,
    "name": "ml.t3.medium",
    "vcpuNum": 2
   },
   {
    "_defaultOrder": 1,
    "_isFastLaunch": false,
    "category": "General purpose",
    "gpuNum": 0,
    "hideHardwareSpecs": false,
    "memoryGiB": 8,
    "name": "ml.t3.large",
    "vcpuNum": 2
   },
   {
    "_defaultOrder": 2,
    "_isFastLaunch": false,
    "category": "General purpose",
    "gpuNum": 0,
    "hideHardwareSpecs": false,
    "memoryGiB": 16,
    "name": "ml.t3.xlarge",
    "vcpuNum": 4
   },
   {
    "_defaultOrder": 3,
    "_isFastLaunch": false,
    "category": "General purpose",
    "gpuNum": 0,
    "hideHardwareSpecs": false,
    "memoryGiB": 32,
    "name": "ml.t3.2xlarge",
    "vcpuNum": 8
   },
   {
    "_defaultOrder": 4,
    "_isFastLaunch": true,
    "category": "General purpose",
    "gpuNum": 0,
    "hideHardwareSpecs": false,
    "memoryGiB": 8,
    "name": "ml.m5.large",
    "vcpuNum": 2
   },
   {
    "_defaultOrder": 5,
    "_isFastLaunch": false,
    "category": "General purpose",
    "gpuNum": 0,
    "hideHardwareSpecs": false,
    "memoryGiB": 16,
    "name": "ml.m5.xlarge",
    "vcpuNum": 4
   },
   {
    "_defaultOrder": 6,
    "_isFastLaunch": false,
    "category": "General purpose",
    "gpuNum": 0,
    "hideHardwareSpecs": false,
    "memoryGiB": 32,
    "name": "ml.m5.2xlarge",
    "vcpuNum": 8
   },
   {
    "_defaultOrder": 7,
    "_isFastLaunch": false,
    "category": "General purpose",
    "gpuNum": 0,
    "hideHardwareSpecs": false,
    "memoryGiB": 64,
    "name": "ml.m5.4xlarge",
    "vcpuNum": 16
   },
   {
    "_defaultOrder": 8,
    "_isFastLaunch": false,
    "category": "General purpose",
    "gpuNum": 0,
    "hideHardwareSpecs": false,
    "memoryGiB": 128,
    "name": "ml.m5.8xlarge",
    "vcpuNum": 32
   },
   {
    "_defaultOrder": 9,
    "_isFastLaunch": false,
    "category": "General purpose",
    "gpuNum": 0,
    "hideHardwareSpecs": false,
    "memoryGiB": 192,
    "name": "ml.m5.12xlarge",
    "vcpuNum": 48
   },
   {
    "_defaultOrder": 10,
    "_isFastLaunch": false,
    "category": "General purpose",
    "gpuNum": 0,
    "hideHardwareSpecs": false,
    "memoryGiB": 256,
    "name": "ml.m5.16xlarge",
    "vcpuNum": 64
   },
   {
    "_defaultOrder": 11,
    "_isFastLaunch": false,
    "category": "General purpose",
    "gpuNum": 0,
    "hideHardwareSpecs": false,
    "memoryGiB": 384,
    "name": "ml.m5.24xlarge",
    "vcpuNum": 96
   },
   {
    "_defaultOrder": 12,
    "_isFastLaunch": false,
    "category": "General purpose",
    "gpuNum": 0,
    "hideHardwareSpecs": false,
    "memoryGiB": 8,
    "name": "ml.m5d.large",
    "vcpuNum": 2
   },
   {
    "_defaultOrder": 13,
    "_isFastLaunch": false,
    "category": "General purpose",
    "gpuNum": 0,
    "hideHardwareSpecs": false,
    "memoryGiB": 16,
    "name": "ml.m5d.xlarge",
    "vcpuNum": 4
   },
   {
    "_defaultOrder": 14,
    "_isFastLaunch": false,
    "category": "General purpose",
    "gpuNum": 0,
    "hideHardwareSpecs": false,
    "memoryGiB": 32,
    "name": "ml.m5d.2xlarge",
    "vcpuNum": 8
   },
   {
    "_defaultOrder": 15,
    "_isFastLaunch": false,
    "category": "General purpose",
    "gpuNum": 0,
    "hideHardwareSpecs": false,
    "memoryGiB": 64,
    "name": "ml.m5d.4xlarge",
    "vcpuNum": 16
   },
   {
    "_defaultOrder": 16,
    "_isFastLaunch": false,
    "category": "General purpose",
    "gpuNum": 0,
    "hideHardwareSpecs": false,
    "memoryGiB": 128,
    "name": "ml.m5d.8xlarge",
    "vcpuNum": 32
   },
   {
    "_defaultOrder": 17,
    "_isFastLaunch": false,
    "category": "General purpose",
    "gpuNum": 0,
    "hideHardwareSpecs": false,
    "memoryGiB": 192,
    "name": "ml.m5d.12xlarge",
    "vcpuNum": 48
   },
   {
    "_defaultOrder": 18,
    "_isFastLaunch": false,
    "category": "General purpose",
    "gpuNum": 0,
    "hideHardwareSpecs": false,
    "memoryGiB": 256,
    "name": "ml.m5d.16xlarge",
    "vcpuNum": 64
   },
   {
    "_defaultOrder": 19,
    "_isFastLaunch": false,
    "category": "General purpose",
    "gpuNum": 0,
    "hideHardwareSpecs": false,
    "memoryGiB": 384,
    "name": "ml.m5d.24xlarge",
    "vcpuNum": 96
   },
   {
    "_defaultOrder": 20,
    "_isFastLaunch": false,
    "category": "General purpose",
    "gpuNum": 0,
    "hideHardwareSpecs": true,
    "memoryGiB": 0,
    "name": "ml.geospatial.interactive",
    "supportedImageNames": [
     "sagemaker-geospatial-v1-0"
    ],
    "vcpuNum": 0
   },
   {
    "_defaultOrder": 21,
    "_isFastLaunch": true,
    "category": "Compute optimized",
    "gpuNum": 0,
    "hideHardwareSpecs": false,
    "memoryGiB": 4,
    "name": "ml.c5.large",
    "vcpuNum": 2
   },
   {
    "_defaultOrder": 22,
    "_isFastLaunch": false,
    "category": "Compute optimized",
    "gpuNum": 0,
    "hideHardwareSpecs": false,
    "memoryGiB": 8,
    "name": "ml.c5.xlarge",
    "vcpuNum": 4
   },
   {
    "_defaultOrder": 23,
    "_isFastLaunch": false,
    "category": "Compute optimized",
    "gpuNum": 0,
    "hideHardwareSpecs": false,
    "memoryGiB": 16,
    "name": "ml.c5.2xlarge",
    "vcpuNum": 8
   },
   {
    "_defaultOrder": 24,
    "_isFastLaunch": false,
    "category": "Compute optimized",
    "gpuNum": 0,
    "hideHardwareSpecs": false,
    "memoryGiB": 32,
    "name": "ml.c5.4xlarge",
    "vcpuNum": 16
   },
   {
    "_defaultOrder": 25,
    "_isFastLaunch": false,
    "category": "Compute optimized",
    "gpuNum": 0,
    "hideHardwareSpecs": false,
    "memoryGiB": 72,
    "name": "ml.c5.9xlarge",
    "vcpuNum": 36
   },
   {
    "_defaultOrder": 26,
    "_isFastLaunch": false,
    "category": "Compute optimized",
    "gpuNum": 0,
    "hideHardwareSpecs": false,
    "memoryGiB": 96,
    "name": "ml.c5.12xlarge",
    "vcpuNum": 48
   },
   {
    "_defaultOrder": 27,
    "_isFastLaunch": false,
    "category": "Compute optimized",
    "gpuNum": 0,
    "hideHardwareSpecs": false,
    "memoryGiB": 144,
    "name": "ml.c5.18xlarge",
    "vcpuNum": 72
   },
   {
    "_defaultOrder": 28,
    "_isFastLaunch": false,
    "category": "Compute optimized",
    "gpuNum": 0,
    "hideHardwareSpecs": false,
    "memoryGiB": 192,
    "name": "ml.c5.24xlarge",
    "vcpuNum": 96
   },
   {
    "_defaultOrder": 29,
    "_isFastLaunch": true,
    "category": "Accelerated computing",
    "gpuNum": 1,
    "hideHardwareSpecs": false,
    "memoryGiB": 16,
    "name": "ml.g4dn.xlarge",
    "vcpuNum": 4
   },
   {
    "_defaultOrder": 30,
    "_isFastLaunch": false,
    "category": "Accelerated computing",
    "gpuNum": 1,
    "hideHardwareSpecs": false,
    "memoryGiB": 32,
    "name": "ml.g4dn.2xlarge",
    "vcpuNum": 8
   },
   {
    "_defaultOrder": 31,
    "_isFastLaunch": false,
    "category": "Accelerated computing",
    "gpuNum": 1,
    "hideHardwareSpecs": false,
    "memoryGiB": 64,
    "name": "ml.g4dn.4xlarge",
    "vcpuNum": 16
   },
   {
    "_defaultOrder": 32,
    "_isFastLaunch": false,
    "category": "Accelerated computing",
    "gpuNum": 1,
    "hideHardwareSpecs": false,
    "memoryGiB": 128,
    "name": "ml.g4dn.8xlarge",
    "vcpuNum": 32
   },
   {
    "_defaultOrder": 33,
    "_isFastLaunch": false,
    "category": "Accelerated computing",
    "gpuNum": 4,
    "hideHardwareSpecs": false,
    "memoryGiB": 192,
    "name": "ml.g4dn.12xlarge",
    "vcpuNum": 48
   },
   {
    "_defaultOrder": 34,
    "_isFastLaunch": false,
    "category": "Accelerated computing",
    "gpuNum": 1,
    "hideHardwareSpecs": false,
    "memoryGiB": 256,
    "name": "ml.g4dn.16xlarge",
    "vcpuNum": 64
   },
   {
    "_defaultOrder": 35,
    "_isFastLaunch": false,
    "category": "Accelerated computing",
    "gpuNum": 1,
    "hideHardwareSpecs": false,
    "memoryGiB": 61,
    "name": "ml.p3.2xlarge",
    "vcpuNum": 8
   },
   {
    "_defaultOrder": 36,
    "_isFastLaunch": false,
    "category": "Accelerated computing",
    "gpuNum": 4,
    "hideHardwareSpecs": false,
    "memoryGiB": 244,
    "name": "ml.p3.8xlarge",
    "vcpuNum": 32
   },
   {
    "_defaultOrder": 37,
    "_isFastLaunch": false,
    "category": "Accelerated computing",
    "gpuNum": 8,
    "hideHardwareSpecs": false,
    "memoryGiB": 488,
    "name": "ml.p3.16xlarge",
    "vcpuNum": 64
   },
   {
    "_defaultOrder": 38,
    "_isFastLaunch": false,
    "category": "Accelerated computing",
    "gpuNum": 8,
    "hideHardwareSpecs": false,
    "memoryGiB": 768,
    "name": "ml.p3dn.24xlarge",
    "vcpuNum": 96
   },
   {
    "_defaultOrder": 39,
    "_isFastLaunch": false,
    "category": "Memory Optimized",
    "gpuNum": 0,
    "hideHardwareSpecs": false,
    "memoryGiB": 16,
    "name": "ml.r5.large",
    "vcpuNum": 2
   },
   {
    "_defaultOrder": 40,
    "_isFastLaunch": false,
    "category": "Memory Optimized",
    "gpuNum": 0,
    "hideHardwareSpecs": false,
    "memoryGiB": 32,
    "name": "ml.r5.xlarge",
    "vcpuNum": 4
   },
   {
    "_defaultOrder": 41,
    "_isFastLaunch": false,
    "category": "Memory Optimized",
    "gpuNum": 0,
    "hideHardwareSpecs": false,
    "memoryGiB": 64,
    "name": "ml.r5.2xlarge",
    "vcpuNum": 8
   },
   {
    "_defaultOrder": 42,
    "_isFastLaunch": false,
    "category": "Memory Optimized",
    "gpuNum": 0,
    "hideHardwareSpecs": false,
    "memoryGiB": 128,
    "name": "ml.r5.4xlarge",
    "vcpuNum": 16
   },
   {
    "_defaultOrder": 43,
    "_isFastLaunch": false,
    "category": "Memory Optimized",
    "gpuNum": 0,
    "hideHardwareSpecs": false,
    "memoryGiB": 256,
    "name": "ml.r5.8xlarge",
    "vcpuNum": 32
   },
   {
    "_defaultOrder": 44,
    "_isFastLaunch": false,
    "category": "Memory Optimized",
    "gpuNum": 0,
    "hideHardwareSpecs": false,
    "memoryGiB": 384,
    "name": "ml.r5.12xlarge",
    "vcpuNum": 48
   },
   {
    "_defaultOrder": 45,
    "_isFastLaunch": false,
    "category": "Memory Optimized",
    "gpuNum": 0,
    "hideHardwareSpecs": false,
    "memoryGiB": 512,
    "name": "ml.r5.16xlarge",
    "vcpuNum": 64
   },
   {
    "_defaultOrder": 46,
    "_isFastLaunch": false,
    "category": "Memory Optimized",
    "gpuNum": 0,
    "hideHardwareSpecs": false,
    "memoryGiB": 768,
    "name": "ml.r5.24xlarge",
    "vcpuNum": 96
   },
   {
    "_defaultOrder": 47,
    "_isFastLaunch": false,
    "category": "Accelerated computing",
    "gpuNum": 1,
    "hideHardwareSpecs": false,
    "memoryGiB": 16,
    "name": "ml.g5.xlarge",
    "vcpuNum": 4
   },
   {
    "_defaultOrder": 48,
    "_isFastLaunch": false,
    "category": "Accelerated computing",
    "gpuNum": 1,
    "hideHardwareSpecs": false,
    "memoryGiB": 32,
    "name": "ml.g5.2xlarge",
    "vcpuNum": 8
   },
   {
    "_defaultOrder": 49,
    "_isFastLaunch": false,
    "category": "Accelerated computing",
    "gpuNum": 1,
    "hideHardwareSpecs": false,
    "memoryGiB": 64,
    "name": "ml.g5.4xlarge",
    "vcpuNum": 16
   },
   {
    "_defaultOrder": 50,
    "_isFastLaunch": false,
    "category": "Accelerated computing",
    "gpuNum": 1,
    "hideHardwareSpecs": false,
    "memoryGiB": 128,
    "name": "ml.g5.8xlarge",
    "vcpuNum": 32
   },
   {
    "_defaultOrder": 51,
    "_isFastLaunch": false,
    "category": "Accelerated computing",
    "gpuNum": 1,
    "hideHardwareSpecs": false,
    "memoryGiB": 256,
    "name": "ml.g5.16xlarge",
    "vcpuNum": 64
   },
   {
    "_defaultOrder": 52,
    "_isFastLaunch": false,
    "category": "Accelerated computing",
    "gpuNum": 4,
    "hideHardwareSpecs": false,
    "memoryGiB": 192,
    "name": "ml.g5.12xlarge",
    "vcpuNum": 48
   },
   {
    "_defaultOrder": 53,
    "_isFastLaunch": false,
    "category": "Accelerated computing",
    "gpuNum": 4,
    "hideHardwareSpecs": false,
    "memoryGiB": 384,
    "name": "ml.g5.24xlarge",
    "vcpuNum": 96
   },
   {
    "_defaultOrder": 54,
    "_isFastLaunch": false,
    "category": "Accelerated computing",
    "gpuNum": 8,
    "hideHardwareSpecs": false,
    "memoryGiB": 768,
    "name": "ml.g5.48xlarge",
    "vcpuNum": 192
   },
   {
    "_defaultOrder": 55,
    "_isFastLaunch": false,
    "category": "Accelerated computing",
    "gpuNum": 8,
    "hideHardwareSpecs": false,
    "memoryGiB": 1152,
    "name": "ml.p4d.24xlarge",
    "vcpuNum": 96
   },
   {
    "_defaultOrder": 56,
    "_isFastLaunch": false,
    "category": "Accelerated computing",
    "gpuNum": 8,
    "hideHardwareSpecs": false,
    "memoryGiB": 1152,
    "name": "ml.p4de.24xlarge",
    "vcpuNum": 96
   }
  ],
  "instance_type": "ml.t3.medium",
  "kernelspec": {
   "display_name": "conda_python3",
   "language": "python",
   "name": "conda_python3"
  },
  "language_info": {
   "codemirror_mode": {
    "name": "ipython",
    "version": 3
   },
   "file_extension": ".py",
   "mimetype": "text/x-python",
   "name": "python",
   "nbconvert_exporter": "python",
   "pygments_lexer": "ipython3",
   "version": "3.10.14"
  }
 },
 "nbformat": 4,
 "nbformat_minor": 5
}
